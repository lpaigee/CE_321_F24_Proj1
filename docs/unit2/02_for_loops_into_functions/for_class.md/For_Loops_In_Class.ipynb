{
  "nbformat": 4,
  "nbformat_minor": 0,
  "metadata": {
    "colab": {
      "provenance": [],
      "authorship_tag": "ABX9TyPfoDaikrZ5TwN9HkYfHl6x",
      "include_colab_link": true
    },
    "kernelspec": {
      "name": "python3",
      "display_name": "Python 3"
    },
    "language_info": {
      "name": "python"
    }
  },
  "cells": [
    {
      "cell_type": "markdown",
      "metadata": {
        "id": "view-in-github",
        "colab_type": "text"
      },
      "source": [
        "<a href=\"https://colab.research.google.com/github/lpaigee/CE_321_F24_Proj1/blob/main/docs/unit2/02_for_loops_into_functions/for_class.md/For_Loops_In_Class.ipynb\" target=\"_parent\"><img src=\"https://colab.research.google.com/assets/colab-badge.svg\" alt=\"Open In Colab\"/></a>"
      ]
    },
    {
      "cell_type": "code",
      "execution_count": null,
      "metadata": {
        "id": "1ICbPnV4EvWw"
      },
      "outputs": [],
      "source": [
        "# @title For Loop\n",
        "\n",
        "animals = ['zebra', 'porcupine', 'elephant', 'giraffe']\n",
        "\n",
        "for animal in animals:\n",
        "  print(f\"A {animal.title()} would make a wonderful pet.\")\n",
        "\n",
        "print('Any of these animals would be a great pet')\n",
        "\n",
        "# write yoru own for loop to print all of the animal names\n"
      ]
    },
    {
      "cell_type": "code",
      "source": [
        "# @title Nested For Loops\n",
        "adj = [\"large\", \"happy\", \"hungry\", \"quiet\"]\n",
        "animals = [\"zebra\", \"porcupine\", \"elephant\", \"giraffe\"]\n",
        "\n",
        "for adj in adj:\n",
        "  for animal in animals:\n",
        "    print(adj, animal)\n",
        "\n",
        "# Create your own nested for loop using the lists below\n",
        "adj = [\"sweet\", \"ripe\", \"delicious\"]\n",
        "fruits = [\"pear\", \"mango\", \"kiwi\"]"
      ],
      "metadata": {
        "id": "_9TMW60JFnXQ"
      },
      "execution_count": null,
      "outputs": []
    },
    {
      "cell_type": "code",
      "source": [
        "# @title For Loop\n",
        "mylist = ['Amy', 'Anne', 'Barbara', 'Bob', 'Clare', 'Clark', 'Jane', 'John', 'Jenny', 'Jerry', 'Joe']\n",
        "\n",
        "myNewList = []\n",
        "\n",
        "for i in mylist:\n",
        "  newItem = i + 'Smith'\n",
        "  myNewList.append(newItem)\n",
        "\n",
        "print(myNewList)\n",
        "\n",
        "# write your own for loop using mylist\n",
        "# create a list that tells everyone Hello \"Name\" for each name"
      ],
      "metadata": {
        "id": "95hVw50KFJ4A"
      },
      "execution_count": null,
      "outputs": []
    }
  ]
}