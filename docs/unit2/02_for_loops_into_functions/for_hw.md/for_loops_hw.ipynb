{
  "nbformat": 4,
  "nbformat_minor": 0,
  "metadata": {
    "colab": {
      "provenance": [],
      "authorship_tag": "ABX9TyPn5KCa5oW2W7T4V/MOFmNr",
      "include_colab_link": true
    },
    "kernelspec": {
      "name": "python3",
      "display_name": "Python 3"
    },
    "language_info": {
      "name": "python"
    }
  },
  "cells": [
    {
      "cell_type": "markdown",
      "metadata": {
        "id": "view-in-github",
        "colab_type": "text"
      },
      "source": [
        "<a href=\"https://colab.research.google.com/github/lpaigee/CE_321_F24_Proj1/blob/main/docs/unit2/02_for_loops_into_functions/for_hw.md/for_loops_hw.ipynb\" target=\"_parent\"><img src=\"https://colab.research.google.com/assets/colab-badge.svg\" alt=\"Open In Colab\"/></a>"
      ]
    },
    {
      "cell_type": "markdown",
      "source": [
        "# HW: For Loops\n",
        "-------------------------------------\n",
        "Purpose: Learn how to use for loops to to analyze lists.\n",
        "## Instructions\n",
        "-------------------------------------\n",
        "1. Create a copy of the starter sheet and rename it something like \"[Your Name] HW 2.3 - For Loops\"\n",
        "2. Under the given list of lengths, append the list to include a length of 5.7 at the end.\n",
        "3. Create a variable that stores a value for the total length of all beams.\n",
        "4. Create a for loop that will calculate the total length of all the beams.\n",
        "5. Calculate the average length of the beams.\n",
        "6. Create a for loop that will count the number of long beams (all the beams longer than 5 mm).\n",
        "7. Write print statements that will describe and print the values of your total length, average length, and number of long beams.\n",
        "8. In the second code block, remove the last length from the given list.\n",
        "9. Next, create a variable to store the value of the total deflection of the beam.\n",
        "10. Create a for loop to calculate the total deflection of each individual beam using the given values for loads, distances, E, and I.\n",
        "11. Lastly, create a print statement that specifies the total length of each beam and its deflection."
      ],
      "metadata": {
        "id": "f3lXtp3ShxVc"
      }
    },
    {
      "cell_type": "code",
      "source": [
        "# This is a given list of beam lengths in mm.\n",
        "beam_lengths = [8.3, 4.2, 9.0, 3.6, 6.4]\n",
        "\n",
        "# Append a length of 5.7 to the given list\n",
        "\n",
        "# Create a variable to store the value of the total length of all beam\n",
        "\n",
        "# Create a for loop to calculate the total length of all the beams\n",
        "\n",
        "# Calculate the average length of the beams\n",
        "\n",
        "# Create a for loop to count the number of beams that are longer than 5 mm (long beams)\n",
        "\n",
        "# Create print statements to output the results\n"
      ],
      "metadata": {
        "colab": {
          "base_uri": "https://localhost:8080/"
        },
        "id": "oDnM1k6nhxIs",
        "outputId": "24a63a21-6df7-48c2-c9d6-b189f29b9756"
      },
      "execution_count": null,
      "outputs": [
        {
          "output_type": "stream",
          "name": "stdout",
          "text": [
            "The total length of all beams is 31.5 mm\n",
            "The average length of the beams is 6.3 mm\n",
            "There are 3 beams longer than 5 mm\n"
          ]
        }
      ]
    },
    {
      "cell_type": "code",
      "execution_count": null,
      "metadata": {
        "colab": {
          "base_uri": "https://localhost:8080/"
        },
        "id": "Ix2t8rnAhboS",
        "outputId": "ad583b54-99ce-45dd-a283-2eca17b7504d"
      },
      "outputs": [
        {
          "output_type": "stream",
          "name": "stdout",
          "text": [
            "The deflection for the 8.3 meter long beam is 6.023500000000001e-07 mm\n",
            "The deflection for the 4.2 meter long beam is 8.705500000000003e-07 mm\n",
            "The deflection for the 9.0 meter long beam is 1.5299500000000005e-06 mm\n",
            "The deflection for the 3.6 meter long beam is 1.7492500000000004e-06 mm\n",
            "The deflection for the 6.4 meter long beam is 2.1967500000000006e-06 mm\n"
          ]
        }
      ],
      "source": [
        "# This is the same given list of beam lengths in mm.\n",
        "beam_lengths = [8.3, 4.2, 9.0, 3.6, 6.4]\n",
        "\n",
        "# Delete the last length from the list\n",
        "\n",
        "# Here are the given values for E, I, and the loads given that it's a steel beam\n",
        "E = 200 # Young's modulus in GPa (N/mm^2)\n",
        "I = 100000000 # Moment of Inertia in mm^4\n",
        "loads = [(250, 3.2), (700, 1.0)] # List of loads (P) and their positions (x) on the beams\n",
        "\n",
        "# Create a variable to store the value of the total deflection on the beam\n",
        "\n",
        "# Create a for loop to calculate the total deflection\n",
        "\n",
        "# Create a print statement that specifies the length of the beam and the total deflection.\n"
      ]
    }
  ]
}